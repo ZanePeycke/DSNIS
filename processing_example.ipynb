{
 "cells": [
  {
   "cell_type": "markdown",
   "metadata": {},
   "source": [
    "## Cleaning DSNIS Data:\n",
    "#### We begin by loading our excel file and reading it into a pandas dataframe"
   ]
  },
  {
   "cell_type": "code",
   "execution_count": 1,
   "metadata": {},
   "outputs": [],
   "source": [
    "import pandas as pd\n",
    "import xlsxwriter\n",
    "file_path = r\"C:\\Users\\Zane Peycke\\proj\\grid3\\data\\donnes_cartographie_kitenda_1_copy.xlsx\"\n",
    "df = pd.read_excel(file_path, header=None)"
   ]
  },
  {
   "cell_type": "markdown",
   "metadata": {},
   "source": [
    "#### Remove all rows that are completely empty\n",
    "##### (The original excel files contain empty rows between different areas etc. in a single sheet)"
   ]
  },
  {
   "cell_type": "code",
   "execution_count": 2,
   "metadata": {},
   "outputs": [],
   "source": [
    "df.dropna(how='all', inplace=True)\n",
    "# We reset the numerical index to find our split points later\n",
    "df.reset_index(inplace=True)"
   ]
  },
  {
   "cell_type": "markdown",
   "metadata": {},
   "source": [
    "#### We need to reformat information including nom, arie, zone, date for each group of data. \n",
    "##### To do this we will begin by separating blocks when 'Nom du Superviseur' occurs in a sheet\n",
    "##### We will also temporarily remove the original column header (by filering on N°) and save for later use"
   ]
  },
  {
   "cell_type": "code",
   "execution_count": 3,
   "metadata": {},
   "outputs": [],
   "source": [
    "index_list = [] # list of indicies that contiain 'Nom du Superviseur'\n",
    "drop_list = [] # List of indicies that contain our original column header\n",
    "split_string = 'NOM DU SUPERVISEUR'\n",
    "drop_string = 'N°'\n",
    "for index in range(len(df.index)):\n",
    "    if df.iloc[index].str.contains(drop_string).any() == True:\n",
    "        drop_list.append(index)\n",
    "    if df.iloc[index].str.contains(split_string).any() == True:\n",
    "        index_list.append(index)\n",
    "# Save our column header, then temporarily drop for initial processing\n",
    "original_index = df.iloc[drop_list[0]]\n",
    "original_index = original_index.drop('index')\n",
    "\n",
    "# We save this as a list because the header may appear more than once\n",
    "df = df.drop(drop_list)"
   ]
  },
  {
   "cell_type": "markdown",
   "metadata": {},
   "source": [
    "#### Given the indicies of 'Nom du Superviseur', we create separate dataframes for each section. \n",
    "##### Each section contains information on superviseur, aire, zone, date, gps, and all samples"
   ]
  },
  {
   "cell_type": "code",
   "execution_count": 4,
   "metadata": {},
   "outputs": [],
   "source": [
    "df_list = []\n",
    "for i in range(len(index_list)-1):\n",
    "    if i == 0: # For the first case we start at index = 0, and end one row before the next occurance of 'nom...'\n",
    "        df_current = df.iloc[index_list[i]:(index_list[i+1]-1)]\n",
    "        df_list.append(df_current)\n",
    "    elif i == len(index_list)-1: # last block should extend to the end of our sheet\n",
    "        df_current = df.iloc[index_list[i]-1:]\n",
    "        df_list.append(df_current)\n",
    "    else: # In all other cases we start at the occurance of 'nom...' and end on the row before the next occurance\n",
    "        df_current = df.iloc[(index_list[i]-1):(index_list[i+1]-1)]\n",
    "        df_list.append(df_current)"
   ]
  },
  {
   "cell_type": "markdown",
   "metadata": {},
   "source": [
    "#### Associate Nom, Aire, Zone, Data, GPS info with each sample\n",
    "##### The original info is contained in a header above each set of samples, so we need to reshape these values first.\n",
    "##### We also define string values to aid in filtering common information\n"
   ]
  },
  {
   "cell_type": "code",
   "execution_count": 5,
   "metadata": {},
   "outputs": [],
   "source": [
    "name_string = 'NOM DU SUPERVISEUR' # This is also different in some sheets\n",
    "aire_string = 'AIRE DE SANTE'\n",
    "zone_string = 'ZONE DE SANTE'\n",
    "date_string = 'DATE' # Dates are formatted differently, and will need to be cleaned after\n",
    "gps_string = 'NUMERO DE GPS' #This is different across sheets\n",
    "travail_string = 'TRAVAIL DU'\n",
    "string_list = [name_string,aire_string,zone_string,date_string,gps_string,travail_string]\n"
   ]
  },
  {
   "cell_type": "code",
   "execution_count": 6,
   "metadata": {},
   "outputs": [],
   "source": [
    "def value_from_header(series, string_list):\n",
    "    \"\"\" Given a series from the header data, process the series to extract the \n",
    "    specific information we will later associate with our samples. \n",
    "    Example: if our series is NOM DU SUPERVISEUR, name of person,  TRAVAIL DU TERRAIN ZONE RURALE\"\n",
    "    This function returns name of person. \n",
    "    \n",
    "    The format of this information is not consistent across arie/zones so we filter based on a list of strings.\n",
    "    \"\"\"\n",
    "    series = series.dropna()\n",
    "    series = series.astype(str)\n",
    "    series = series.drop('index')\n",
    "    series.reset_index(inplace=True,drop=True)\n",
    "    indicies_to_drop = []\n",
    "    for index in range(len(series)):\n",
    "        for string in string_list:\n",
    "            if string in series.iloc[index]:\n",
    "                indicies_to_drop.append(index)\n",
    "            \n",
    "    value = series.drop(indicies_to_drop)\n",
    "    return value"
   ]
  },
  {
   "cell_type": "code",
   "execution_count": 7,
   "metadata": {},
   "outputs": [],
   "source": [
    "def add_header_info(df, original_index):\n",
    "    # header size appears to be consistent across some sheets\n",
    "    header = df.iloc[0:5]\n",
    "    df = df.drop(df.index[0:5])\n",
    "        \n",
    "    for index in range(len(header.index)):\n",
    "        if header.iloc[index].str.contains(name_string).any() == True:\n",
    "            name_series = header.iloc[index]\n",
    "        elif header.iloc[index].str.contains(aire_string).any() == True:\n",
    "            aire_series = header.iloc[index]\n",
    "        elif header.iloc[index].str.contains(zone_string).any() == True:\n",
    "            zone_series = header.iloc[index]\n",
    "        elif header.iloc[index].str.contains(date_string).any() == True:\n",
    "            date_series = header.iloc[index]\n",
    "        elif header.iloc[index].str.contains(gps_string).any() == True:\n",
    "            gps_series = header.iloc[index]\n",
    "   \n",
    "    # Gather values from header series\n",
    "    name = value_from_header(name_series, string_list).reset_index(drop=True)\n",
    "    aire = value_from_header(aire_series, string_list).reset_index(drop=True)\n",
    "    zone = value_from_header(zone_series, string_list).reset_index(drop=True)\n",
    "    date = value_from_header(date_series, string_list).reset_index(drop=True)\n",
    "    gps  = value_from_header(gps_series, string_list).reset_index(drop=True)\n",
    "\n",
    "    \n",
    "    # Now rename our columns list\n",
    "    columns_list = (list(original_index))\n",
    "    columns_list.insert(0,'index')\n",
    "    df.columns=columns_list\n",
    "\n",
    "    # Add values extracted from the header\n",
    "    df[name_string] = name[0]\n",
    "    df[aire_string] = aire[0]\n",
    "    df[zone_string] = zone[0]\n",
    "    df[date_string] = date[0]\n",
    "    df[gps_string]  = gps[0]\n",
    "    df.reset_index(inplace=True,drop=True)\n",
    "    del df['index']\n",
    "    return df"
   ]
  },
  {
   "cell_type": "markdown",
   "metadata": {},
   "source": [
    "### Take our separate dataframes, process then combine"
   ]
  },
  {
   "cell_type": "code",
   "execution_count": 8,
   "metadata": {},
   "outputs": [],
   "source": [
    "clean_df_list = []\n",
    "for i in range(len(df_list)):\n",
    "    df = add_header_info(df_list[i], original_index)\n",
    "    clean_df_list.append(df)"
   ]
  },
  {
   "cell_type": "code",
   "execution_count": 9,
   "metadata": {},
   "outputs": [],
   "source": [
    "cleaned_df = pd.concat(clean_df_list)\n",
    "cleaned_df.reset_index(inplace=True,drop=True)"
   ]
  },
  {
   "cell_type": "markdown",
   "metadata": {},
   "source": [
    "### Write to excel"
   ]
  },
  {
   "cell_type": "code",
   "execution_count": 10,
   "metadata": {},
   "outputs": [],
   "source": [
    "import pandas.io.formats.excel\n",
    "pandas.io.formats.excel.header_style = None"
   ]
  },
  {
   "cell_type": "code",
   "execution_count": 11,
   "metadata": {},
   "outputs": [],
   "source": [
    "writer = pd.ExcelWriter('test_output.xlsx', engine='xlsxwriter')\n",
    "workbook  = writer.book\n",
    "cleaned_df.to_excel(writer, sheet_name='Sheet1')\n",
    "worksheet = writer.sheets['Sheet1']\n",
    "\n",
    "format = workbook.add_format()\n",
    "format.set_align('left')\n",
    "format.set_align('vcenter')\n",
    "\n",
    "worksheet.set_column('A:Z',14, format) # 14 is cell width, is there a way to make this auto adjust?\n",
    "writer.save()"
   ]
  },
  {
   "cell_type": "markdown",
   "metadata": {},
   "source": [
    "# "
   ]
  }
 ],
 "metadata": {
  "kernelspec": {
   "display_name": "grid3",
   "language": "python",
   "name": "grid3"
  },
  "language_info": {
   "codemirror_mode": {
    "name": "ipython",
    "version": 3
   },
   "file_extension": ".py",
   "mimetype": "text/x-python",
   "name": "python",
   "nbconvert_exporter": "python",
   "pygments_lexer": "ipython3",
   "version": "3.7.7"
  }
 },
 "nbformat": 4,
 "nbformat_minor": 4
}
