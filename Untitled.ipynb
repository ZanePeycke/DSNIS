{
 "cells": [
  {
   "cell_type": "markdown",
   "metadata": {},
   "source": [
    "## Cleaning DSNIS Data:\n",
    "#### We begin by loading our excel file and reading it into a pandas dataframe"
   ]
  },
  {
   "cell_type": "code",
   "execution_count": 1,
   "metadata": {},
   "outputs": [],
   "source": [
    "import pandas as pd\n",
    "file_path = r\"C:\\Users\\Zane Peycke\\proj\\grid3\\data\\donnes_cartographie_kitenda_1_copy.xlsx\"\n",
    "df = pd.read_excel(file_path, header=None)"
   ]
  },
  {
   "cell_type": "markdown",
   "metadata": {},
   "source": [
    "#### Remove all rows that are completely empty\n",
    "##### (The original excel files contain empty rows between different areas etc. in a single sheet)"
   ]
  },
  {
   "cell_type": "code",
   "execution_count": 2,
   "metadata": {},
   "outputs": [],
   "source": [
    "df.dropna(how='all', inplace=True)\n",
    "df.ffill(inplace=True)\n",
    "# We reset the numerical index to find our split points later\n",
    "df.reset_index(inplace=True)"
   ]
  },
  {
   "cell_type": "markdown",
   "metadata": {},
   "source": [
    "#### We need to reformat information including nom, arie, zone, date for each group of data. \n",
    "##### To do this we will begin by separating blocks when 'Nom du Superviseur' occurs in a sheet"
   ]
  },
  {
   "cell_type": "code",
   "execution_count": 3,
   "metadata": {},
   "outputs": [],
   "source": [
    "index_list = []\n",
    "string = 'NOM DU SUPERVISEUR'\n",
    "for index in range(len(df.index)):\n",
    "    if df.iloc[index].str.contains(string).any()== True:\n",
    "        index_list.append(index)"
   ]
  },
  {
   "cell_type": "code",
   "execution_count": 4,
   "metadata": {},
   "outputs": [],
   "source": [
    "df_list = []\n",
    "for i in range(len(index_list)-1):\n",
    "    df_current = df.iloc[index_list[i]:index_list[i+1]]\n",
    "    df_list.append(df_current)"
   ]
  }
 ],
 "metadata": {
  "kernelspec": {
   "display_name": "grid3",
   "language": "python",
   "name": "grid3"
  },
  "language_info": {
   "codemirror_mode": {
    "name": "ipython",
    "version": 3
   },
   "file_extension": ".py",
   "mimetype": "text/x-python",
   "name": "python",
   "nbconvert_exporter": "python",
   "pygments_lexer": "ipython3",
   "version": "3.7.7"
  }
 },
 "nbformat": 4,
 "nbformat_minor": 4
}
